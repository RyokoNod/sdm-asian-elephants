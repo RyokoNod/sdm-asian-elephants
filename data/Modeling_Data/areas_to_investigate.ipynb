{
 "cells": [
  {
   "cell_type": "markdown",
   "id": "206d7f89",
   "metadata": {},
   "source": [
    "# Areas that need investigation\n",
    "\n",
    "The files created within this notebook are areas that were commonly predicted unrealistically in the models. The files were created to investigate further in the interpretation phase of the project."
   ]
  },
  {
   "cell_type": "code",
   "execution_count": 2,
   "id": "b2db00bc",
   "metadata": {},
   "outputs": [],
   "source": [
    "import pandas as pd\n",
    "from pathlib import Path\n",
    "from matplotlib import pyplot as plt\n",
    "import seaborn as sns\n",
    "\n",
    "pd.set_option('display.max_columns', 500)"
   ]
  },
  {
   "cell_type": "code",
   "execution_count": 4,
   "id": "dbc63668",
   "metadata": {},
   "outputs": [],
   "source": [
    "datadir = Path(\"./\")\n",
    "pres_GLMf = datadir / \"testdata_pres_GLM.csv\"\n",
    "fut_GLMf = datadir / \"testdata_GLM.csv\"\n",
    "pres_SGLMf = datadir / \"testdata_pres_SGLM.csv\"\n",
    "fut_SGLMf = datadir / \"testdata_SGLM.csv\""
   ]
  },
  {
   "cell_type": "code",
   "execution_count": 7,
   "id": "f3172710",
   "metadata": {},
   "outputs": [],
   "source": [
    "pres_GLM = pd.read_csv(pres_GLMf, sep=\",\")\n",
    "fut_GLM = pd.read_csv(fut_GLMf, sep=\",\")\n",
    "pres_SGLM = pd.read_csv(pres_SGLMf, sep=\",\")\n",
    "fut_SGLM = pd.read_csv(fut_SGLMf, sep=\",\")"
   ]
  },
  {
   "cell_type": "code",
   "execution_count": 10,
   "id": "f9d08f8b",
   "metadata": {},
   "outputs": [],
   "source": [
    "novazem = pd.read_csv(datadir / \"novaya_zemlya.csv\", sep=\",\")\n",
    "greenland = pd.read_csv(datadir / \"greenland.csv\", sep=\",\")\n",
    "sahara = pd.read_csv(datadir / \"sahara.csv\", sep=\",\")"
   ]
  },
  {
   "cell_type": "code",
   "execution_count": 14,
   "id": "c945c624",
   "metadata": {},
   "outputs": [],
   "source": [
    "novazem_presGLM = novazem.merge(pres_GLM)\n",
    "novazem_futGLM = novazem.merge(fut_GLM)\n",
    "novazem_presSGLM = novazem.merge(pres_SGLM)\n",
    "novazem_futSGLM = novazem.merge(fut_SGLM)"
   ]
  },
  {
   "cell_type": "code",
   "execution_count": 19,
   "id": "89e64829",
   "metadata": {},
   "outputs": [],
   "source": [
    "greenland_presGLM = greenland.merge(pres_GLM)\n",
    "greenland_futGLM = greenland.merge(fut_GLM)\n",
    "greenland_presSGLM = greenland.merge(pres_SGLM)\n",
    "greenland_futSGLM = greenland.merge(fut_SGLM)"
   ]
  },
  {
   "cell_type": "code",
   "execution_count": 26,
   "id": "ac6d2ab9",
   "metadata": {},
   "outputs": [],
   "source": [
    "sahara_presGLM = sahara.merge(pres_GLM)\n",
    "sahara_futGLM = sahara.merge(fut_GLM)\n",
    "sahara_presSGLM = sahara.merge(pres_SGLM)\n",
    "sahara_futSGLM = sahara.merge(fut_SGLM)"
   ]
  },
  {
   "cell_type": "code",
   "execution_count": 32,
   "id": "419019f7",
   "metadata": {},
   "outputs": [],
   "source": [
    "novazem_presGLM.to_csv(\"novaya_zemlya_presGLM.csv\", index=False)\n",
    "novazem_futGLM.to_csv(\"novaya_zemlya_futGLM.csv\", index=False)\n",
    "novazem_presSGLM.to_csv(\"novaya_zemlya_presSGLM.csv\", index=False)\n",
    "novazem_futSGLM.to_csv(\"novaya_zemlya_futSGLM.csv\", index=False)"
   ]
  },
  {
   "cell_type": "code",
   "execution_count": 33,
   "id": "a529de9b",
   "metadata": {},
   "outputs": [],
   "source": [
    "greenland_presGLM.to_csv(\"greenland_presGLM.csv\", index=False)\n",
    "greenland_futGLM.to_csv(\"greenland_futGLM.csv\", index=False)\n",
    "greenland_presSGLM.to_csv(\"greenland_presSGLM.csv\", index=False)\n",
    "greenland_futSGLM.to_csv(\"greenland_futSGLM.csv\", index=False)"
   ]
  },
  {
   "cell_type": "code",
   "execution_count": 34,
   "id": "5d60e7c9",
   "metadata": {},
   "outputs": [],
   "source": [
    "sahara_presGLM.to_csv(\"sahara_presGLM.csv\", index=False)\n",
    "sahara_futGLM.to_csv(\"sahara_futGLM.csv\", index=False)\n",
    "sahara_presSGLM.to_csv(\"sahara_presSGLM.csv\", index=False)\n",
    "sahara_futSGLM.to_csv(\"sahara_futSGLM.csv\", index=False)"
   ]
  },
  {
   "cell_type": "code",
   "execution_count": null,
   "id": "317604de",
   "metadata": {},
   "outputs": [],
   "source": []
  }
 ],
 "metadata": {
  "kernelspec": {
   "display_name": "Python 3 (ipykernel)",
   "language": "python",
   "name": "python3"
  },
  "language_info": {
   "codemirror_mode": {
    "name": "ipython",
    "version": 3
   },
   "file_extension": ".py",
   "mimetype": "text/x-python",
   "name": "python",
   "nbconvert_exporter": "python",
   "pygments_lexer": "ipython3",
   "version": "3.8.3"
  }
 },
 "nbformat": 4,
 "nbformat_minor": 5
}
